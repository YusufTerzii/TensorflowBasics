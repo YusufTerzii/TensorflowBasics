{
 "cells": [
  {
   "cell_type": "code",
   "execution_count": 1,
   "id": "1224f9dc",
   "metadata": {},
   "outputs": [],
   "source": [
    "import pandas as pd"
   ]
  },
  {
   "cell_type": "code",
   "execution_count": 2,
   "id": "b4ffa75c",
   "metadata": {},
   "outputs": [],
   "source": [
    "dataFrame = pd.read_excel(\"bisiklet_fiyatlari.xlsx\")"
   ]
  },
  {
   "cell_type": "code",
   "execution_count": 3,
   "id": "9b79f155",
   "metadata": {},
   "outputs": [
    {
     "data": {
      "text/html": [
       "<div>\n",
       "<style scoped>\n",
       "    .dataframe tbody tr th:only-of-type {\n",
       "        vertical-align: middle;\n",
       "    }\n",
       "\n",
       "    .dataframe tbody tr th {\n",
       "        vertical-align: top;\n",
       "    }\n",
       "\n",
       "    .dataframe thead th {\n",
       "        text-align: right;\n",
       "    }\n",
       "</style>\n",
       "<table border=\"1\" class=\"dataframe\">\n",
       "  <thead>\n",
       "    <tr style=\"text-align: right;\">\n",
       "      <th></th>\n",
       "      <th>Fiyat</th>\n",
       "      <th>BisikletOzellik1</th>\n",
       "      <th>BisikletOzellik2</th>\n",
       "    </tr>\n",
       "  </thead>\n",
       "  <tbody>\n",
       "    <tr>\n",
       "      <th>0</th>\n",
       "      <td>807.673876</td>\n",
       "      <td>1749.628226</td>\n",
       "      <td>1749.590668</td>\n",
       "    </tr>\n",
       "    <tr>\n",
       "      <th>1</th>\n",
       "      <td>959.227520</td>\n",
       "      <td>1748.007826</td>\n",
       "      <td>1751.824206</td>\n",
       "    </tr>\n",
       "    <tr>\n",
       "      <th>2</th>\n",
       "      <td>718.020033</td>\n",
       "      <td>1750.122967</td>\n",
       "      <td>1747.977026</td>\n",
       "    </tr>\n",
       "    <tr>\n",
       "      <th>3</th>\n",
       "      <td>945.668885</td>\n",
       "      <td>1749.916440</td>\n",
       "      <td>1750.771646</td>\n",
       "    </tr>\n",
       "    <tr>\n",
       "      <th>4</th>\n",
       "      <td>955.542968</td>\n",
       "      <td>1750.780519</td>\n",
       "      <td>1750.592430</td>\n",
       "    </tr>\n",
       "    <tr>\n",
       "      <th>...</th>\n",
       "      <td>...</td>\n",
       "      <td>...</td>\n",
       "      <td>...</td>\n",
       "    </tr>\n",
       "    <tr>\n",
       "      <th>995</th>\n",
       "      <td>833.920637</td>\n",
       "      <td>1750.033229</td>\n",
       "      <td>1749.427281</td>\n",
       "    </tr>\n",
       "    <tr>\n",
       "      <th>996</th>\n",
       "      <td>800.298076</td>\n",
       "      <td>1747.996913</td>\n",
       "      <td>1750.035046</td>\n",
       "    </tr>\n",
       "    <tr>\n",
       "      <th>997</th>\n",
       "      <td>799.261737</td>\n",
       "      <td>1752.540381</td>\n",
       "      <td>1747.983310</td>\n",
       "    </tr>\n",
       "    <tr>\n",
       "      <th>998</th>\n",
       "      <td>705.802257</td>\n",
       "      <td>1751.349290</td>\n",
       "      <td>1747.484989</td>\n",
       "    </tr>\n",
       "    <tr>\n",
       "      <th>999</th>\n",
       "      <td>1048.892414</td>\n",
       "      <td>1748.656426</td>\n",
       "      <td>1752.539962</td>\n",
       "    </tr>\n",
       "  </tbody>\n",
       "</table>\n",
       "<p>1000 rows × 3 columns</p>\n",
       "</div>"
      ],
      "text/plain": [
       "           Fiyat  BisikletOzellik1  BisikletOzellik2\n",
       "0     807.673876       1749.628226       1749.590668\n",
       "1     959.227520       1748.007826       1751.824206\n",
       "2     718.020033       1750.122967       1747.977026\n",
       "3     945.668885       1749.916440       1750.771646\n",
       "4     955.542968       1750.780519       1750.592430\n",
       "..           ...               ...               ...\n",
       "995   833.920637       1750.033229       1749.427281\n",
       "996   800.298076       1747.996913       1750.035046\n",
       "997   799.261737       1752.540381       1747.983310\n",
       "998   705.802257       1751.349290       1747.484989\n",
       "999  1048.892414       1748.656426       1752.539962\n",
       "\n",
       "[1000 rows x 3 columns]"
      ]
     },
     "execution_count": 3,
     "metadata": {},
     "output_type": "execute_result"
    }
   ],
   "source": [
    "dataFrame"
   ]
  },
  {
   "cell_type": "code",
   "execution_count": 4,
   "id": "9daa27ed",
   "metadata": {},
   "outputs": [
    {
     "data": {
      "text/html": [
       "<div>\n",
       "<style scoped>\n",
       "    .dataframe tbody tr th:only-of-type {\n",
       "        vertical-align: middle;\n",
       "    }\n",
       "\n",
       "    .dataframe tbody tr th {\n",
       "        vertical-align: top;\n",
       "    }\n",
       "\n",
       "    .dataframe thead th {\n",
       "        text-align: right;\n",
       "    }\n",
       "</style>\n",
       "<table border=\"1\" class=\"dataframe\">\n",
       "  <thead>\n",
       "    <tr style=\"text-align: right;\">\n",
       "      <th></th>\n",
       "      <th>Fiyat</th>\n",
       "      <th>BisikletOzellik1</th>\n",
       "      <th>BisikletOzellik2</th>\n",
       "    </tr>\n",
       "  </thead>\n",
       "  <tbody>\n",
       "    <tr>\n",
       "      <th>0</th>\n",
       "      <td>807.673876</td>\n",
       "      <td>1749.628226</td>\n",
       "      <td>1749.590668</td>\n",
       "    </tr>\n",
       "    <tr>\n",
       "      <th>1</th>\n",
       "      <td>959.227520</td>\n",
       "      <td>1748.007826</td>\n",
       "      <td>1751.824206</td>\n",
       "    </tr>\n",
       "    <tr>\n",
       "      <th>2</th>\n",
       "      <td>718.020033</td>\n",
       "      <td>1750.122967</td>\n",
       "      <td>1747.977026</td>\n",
       "    </tr>\n",
       "    <tr>\n",
       "      <th>3</th>\n",
       "      <td>945.668885</td>\n",
       "      <td>1749.916440</td>\n",
       "      <td>1750.771646</td>\n",
       "    </tr>\n",
       "    <tr>\n",
       "      <th>4</th>\n",
       "      <td>955.542968</td>\n",
       "      <td>1750.780519</td>\n",
       "      <td>1750.592430</td>\n",
       "    </tr>\n",
       "  </tbody>\n",
       "</table>\n",
       "</div>"
      ],
      "text/plain": [
       "        Fiyat  BisikletOzellik1  BisikletOzellik2\n",
       "0  807.673876       1749.628226       1749.590668\n",
       "1  959.227520       1748.007826       1751.824206\n",
       "2  718.020033       1750.122967       1747.977026\n",
       "3  945.668885       1749.916440       1750.771646\n",
       "4  955.542968       1750.780519       1750.592430"
      ]
     },
     "execution_count": 4,
     "metadata": {},
     "output_type": "execute_result"
    }
   ],
   "source": [
    "dataFrame.head()"
   ]
  },
  {
   "cell_type": "code",
   "execution_count": 5,
   "id": "2bd55259",
   "metadata": {},
   "outputs": [],
   "source": [
    "import seaborn as sbn"
   ]
  },
  {
   "cell_type": "code",
   "execution_count": 6,
   "id": "9d774a00",
   "metadata": {},
   "outputs": [],
   "source": [
    "import matplotlib.pyplot as  plt"
   ]
  },
  {
   "cell_type": "code",
   "execution_count": 7,
   "id": "25477d7e",
   "metadata": {},
   "outputs": [
    {
     "name": "stderr",
     "output_type": "stream",
     "text": [
      "C:\\Users\\yusuf\\anaconda3\\envs\\pppp11\\lib\\site-packages\\seaborn\\_oldcore.py:1119: FutureWarning: use_inf_as_na option is deprecated and will be removed in a future version. Convert inf values to NaN before operating instead.\n",
      "  with pd.option_context('mode.use_inf_as_na', True):\n",
      "C:\\Users\\yusuf\\anaconda3\\envs\\pppp11\\lib\\site-packages\\seaborn\\_oldcore.py:1119: FutureWarning: use_inf_as_na option is deprecated and will be removed in a future version. Convert inf values to NaN before operating instead.\n",
      "  with pd.option_context('mode.use_inf_as_na', True):\n",
      "C:\\Users\\yusuf\\anaconda3\\envs\\pppp11\\lib\\site-packages\\seaborn\\_oldcore.py:1119: FutureWarning: use_inf_as_na option is deprecated and will be removed in a future version. Convert inf values to NaN before operating instead.\n",
      "  with pd.option_context('mode.use_inf_as_na', True):\n"
     ]
    },
    {
     "data": {
      "text/plain": [
       "<seaborn.axisgrid.PairGrid at 0x1de5313abc0>"
      ]
     },
     "execution_count": 7,
     "metadata": {},
     "output_type": "execute_result"
    },
    {
     "data": {
      "image/png": "[encoded data removed]",
      "text/plain": [
       "<Figure size 750x750 with 12 Axes>"
      ]
     },
     "metadata": {},
     "output_type": "display_data"
    }
   ],
   "source": [
    "sbn.pairplot(dataFrame)"
   ]
  },
  {
   "cell_type": "markdown",
   "id": "a7505a03",
   "metadata": {},
   "source": [
    "## Veriyi test/train olarak ikiye ayırmak"
   ]
  },
  {
   "cell_type": "code",
   "execution_count": 8,
   "id": "c2c607d3",
   "metadata": {},
   "outputs": [],
   "source": [
    "from sklearn.model_selection import train_test_split"
   ]
  },
  {
   "cell_type": "code",
   "execution_count": 9,
   "id": "e41707ba",
   "metadata": {},
   "outputs": [],
   "source": [
    "#train_test_split"
   ]
  },
  {
   "cell_type": "code",
   "execution_count": 10,
   "id": "d8018eed",
   "metadata": {},
   "outputs": [],
   "source": [
    "y = dataFrame[\"Fiyat\"].values\n",
    "# y = wx+b\n",
    "# y ->label\n",
    "\n",
    "x=dataFrame[[\"BisikletOzellik1\",\"BisikletOzellik2\"]].values\n",
    "# x-> feature\n",
    "\n",
    "x_train, x_test, y_train, y_test=train_test_split(x,y,test_size=0.33,random_state=15)"
   ]
  },
  {
   "cell_type": "code",
   "execution_count": 25,
   "id": "d4310f8e",
   "metadata": {},
   "outputs": [
    {
     "data": {
      "text/plain": [
       "(670, 2)"
      ]
     },
     "execution_count": 25,
     "metadata": {},
     "output_type": "execute_result"
    }
   ],
   "source": [
    "x_train.shape ## burada olay test ve train deki değerleri atamakta 670 tanesi train içinde 330 taneside test içine atılmış durumda "
   ]
  },
  {
   "cell_type": "code",
   "execution_count": 26,
   "id": "4ae701c5",
   "metadata": {},
   "outputs": [
    {
     "data": {
      "text/plain": [
       "(330, 2)"
      ]
     },
     "execution_count": 26,
     "metadata": {},
     "output_type": "execute_result"
    }
   ],
   "source": [
    "x_test.shape"
   ]
  },
  {
   "cell_type": "code",
   "execution_count": 27,
   "id": "01c5caea",
   "metadata": {},
   "outputs": [
    {
     "data": {
      "text/plain": [
       "(670,)"
      ]
     },
     "execution_count": 27,
     "metadata": {},
     "output_type": "execute_result"
    }
   ],
   "source": [
    "y_train.shape"
   ]
  },
  {
   "cell_type": "code",
   "execution_count": 28,
   "id": "c461443b",
   "metadata": {},
   "outputs": [
    {
     "data": {
      "text/plain": [
       "(330,)"
      ]
     },
     "execution_count": 28,
     "metadata": {},
     "output_type": "execute_result"
    }
   ],
   "source": [
    "y_test.shape"
   ]
  },
  {
   "cell_type": "code",
   "execution_count": 15,
   "id": "91a7bf98",
   "metadata": {},
   "outputs": [],
   "source": [
    "#scaling"
   ]
  },
  {
   "cell_type": "code",
   "execution_count": 16,
   "id": "67b1bfc4",
   "metadata": {},
   "outputs": [],
   "source": [
    "from sklearn.preprocessing import MinMaxScaler"
   ]
  },
  {
   "cell_type": "code",
   "execution_count": 17,
   "id": "11814341",
   "metadata": {},
   "outputs": [],
   "source": [
    "scaler = MinMaxScaler()"
   ]
  },
  {
   "cell_type": "code",
   "execution_count": 18,
   "id": "dcf35855",
   "metadata": {},
   "outputs": [
    {
     "data": {
      "text/html": [
       "<style>#sk-container-id-1 {color: black;}#sk-container-id-1 pre{padding: 0;}#sk-container-id-1 div.sk-toggleable {background-color: white;}#sk-container-id-1 label.sk-toggleable__label {cursor: pointer;display: block;width: 100%;margin-bottom: 0;padding: 0.3em;box-sizing: border-box;text-align: center;}#sk-container-id-1 label.sk-toggleable__label-arrow:before {content: \"▸\";float: left;margin-right: 0.25em;color: #696969;}#sk-container-id-1 label.sk-toggleable__label-arrow:hover:before {color: black;}#sk-container-id-1 div.sk-estimator:hover label.sk-toggleable__label-arrow:before {color: black;}#sk-container-id-1 div.sk-toggleable__content {max-height: 0;max-width: 0;overflow: hidden;text-align: left;background-color: #f0f8ff;}#sk-container-id-1 div.sk-toggleable__content pre {margin: 0.2em;color: black;border-radius: 0.25em;background-color: #f0f8ff;}#sk-container-id-1 input.sk-toggleable__control:checked~div.sk-toggleable__content {max-height: 200px;max-width: 100%;overflow: auto;}#sk-container-id-1 input.sk-toggleable__control:checked~label.sk-toggleable__label-arrow:before {content: \"▾\";}#sk-container-id-1 div.sk-estimator input.sk-toggleable__control:checked~label.sk-toggleable__label {background-color: #d4ebff;}#sk-container-id-1 div.sk-label input.sk-toggleable__control:checked~label.sk-toggleable__label {background-color: #d4ebff;}#sk-container-id-1 input.sk-hidden--visually {border: 0;clip: rect(1px 1px 1px 1px);clip: rect(1px, 1px, 1px, 1px);height: 1px;margin: -1px;overflow: hidden;padding: 0;position: absolute;width: 1px;}#sk-container-id-1 div.sk-estimator {font-family: monospace;background-color: #f0f8ff;border: 1px dotted black;border-radius: 0.25em;box-sizing: border-box;margin-bottom: 0.5em;}#sk-container-id-1 div.sk-estimator:hover {background-color: #d4ebff;}#sk-container-id-1 div.sk-parallel-item::after {content: \"\";width: 100%;border-bottom: 1px solid gray;flex-grow: 1;}#sk-container-id-1 div.sk-label:hover label.sk-toggleable__label {background-color: #d4ebff;}#sk-container-id-1 div.sk-serial::before {content: \"\";position: absolute;border-left: 1px solid gray;box-sizing: border-box;top: 0;bottom: 0;left: 50%;z-index: 0;}#sk-container-id-1 div.sk-serial {display: flex;flex-direction: column;align-items: center;background-color: white;padding-right: 0.2em;padding-left: 0.2em;position: relative;}#sk-container-id-1 div.sk-item {position: relative;z-index: 1;}#sk-container-id-1 div.sk-parallel {display: flex;align-items: stretch;justify-content: center;background-color: white;position: relative;}#sk-container-id-1 div.sk-item::before, #sk-container-id-1 div.sk-parallel-item::before {content: \"\";position: absolute;border-left: 1px solid gray;box-sizing: border-box;top: 0;bottom: 0;left: 50%;z-index: -1;}#sk-container-id-1 div.sk-parallel-item {display: flex;flex-direction: column;z-index: 1;position: relative;background-color: white;}#sk-container-id-1 div.sk-parallel-item:first-child::after {align-self: flex-end;width: 50%;}#sk-container-id-1 div.sk-parallel-item:last-child::after {align-self: flex-start;width: 50%;}#sk-container-id-1 div.sk-parallel-item:only-child::after {width: 0;}#sk-container-id-1 div.sk-dashed-wrapped {border: 1px dashed gray;margin: 0 0.4em 0.5em 0.4em;box-sizing: border-box;padding-bottom: 0.4em;background-color: white;}#sk-container-id-1 div.sk-label label {font-family: monospace;font-weight: bold;display: inline-block;line-height: 1.2em;}#sk-container-id-1 div.sk-label-container {text-align: center;}#sk-container-id-1 div.sk-container {/* jupyter's `normalize.less` sets `[hidden] { display: none; }` but bootstrap.min.css set `[hidden] { display: none !important; }` so we also need the `!important` here to be able to override the default hidden behavior on the sphinx rendered scikit-learn.org. See: https://github.com/scikit-learn/scikit-learn/issues/21755 */display: inline-block !important;position: relative;}#sk-container-id-1 div.sk-text-repr-fallback {display: none;}</style><div id=\"sk-container-id-1\" class=\"sk-top-container\"><div class=\"sk-text-repr-fallback\"><pre>MinMaxScaler()</pre><b>In a Jupyter environment, please rerun this cell to show the HTML representation or trust the notebook. <br />On GitHub, the HTML representation is unable to render, please try loading this page with nbviewer.org.</b></div><div class=\"sk-container\" hidden><div class=\"sk-item\"><div class=\"sk-estimator sk-toggleable\"><input class=\"sk-toggleable__control sk-hidden--visually\" id=\"sk-estimator-id-1\" type=\"checkbox\" checked><label for=\"sk-estimator-id-1\" class=\"sk-toggleable__label sk-toggleable__label-arrow\">MinMaxScaler</label><div class=\"sk-toggleable__content\"><pre>MinMaxScaler()</pre></div></div></div></div></div>"
      ],
      "text/plain": [
       "MinMaxScaler()"
      ]
     },
     "execution_count": 18,
     "metadata": {},
     "output_type": "execute_result"
    }
   ],
   "source": [
    "scaler.fit(x_train)"
   ]
  },
  {
   "cell_type": "code",
   "execution_count": 19,
   "id": "16328c23",
   "metadata": {},
   "outputs": [],
   "source": [
    "x_train = scaler.transform(x_train)\n",
    "x_test = scaler.transform(x_test)"
   ]
  },
  {
   "cell_type": "code",
   "execution_count": 20,
   "id": "2e87b059",
   "metadata": {},
   "outputs": [
    {
     "data": {
      "text/plain": [
       "array([[0.3177906 , 0.64341466],\n",
       "       [0.61991638, 0.89583174],\n",
       "       [0.53950097, 0.0980286 ],\n",
       "       ...,\n",
       "       [0.2352117 , 0.52644765],\n",
       "       [0.7576794 , 0.19157421],\n",
       "       [0.4292982 , 0.16530301]])"
      ]
     },
     "execution_count": 20,
     "metadata": {},
     "output_type": "execute_result"
    }
   ],
   "source": [
    "x_train"
   ]
  },
  {
   "cell_type": "code",
   "execution_count": 21,
   "id": "2b3a2759",
   "metadata": {},
   "outputs": [],
   "source": [
    "import tensorflow as tf"
   ]
  },
  {
   "cell_type": "code",
   "execution_count": 22,
   "id": "cbdabcf4",
   "metadata": {},
   "outputs": [],
   "source": [
    "from tensorflow.keras.models import Sequential\n",
    "from tensorflow.keras.layers import Dense"
   ]
  },
  {
   "cell_type": "code",
   "execution_count": 29,
   "id": "9a7dae50",
   "metadata": {},
   "outputs": [],
   "source": [
    "model = Sequential()\n",
    "\n",
    "model.add(Dense(4,activation=\"relu\"))\n",
    "model.add(Dense(4,activation=\"relu\"))\n",
    "model.add(Dense(4,activation=\"relu\"))\n",
    "\n",
    "model.add(Dense(1))\n",
    "\n",
    "model.compile(optimizer = \"rmsprop\",loss=\"mse\")"
   ]
  },
  {
   "cell_type": "code",
   "execution_count": 30,
   "id": "404b7754",
   "metadata": {},
   "outputs": [
    {
     "name": "stdout",
     "output_type": "stream",
     "text": [
      "Epoch 1/250\n",
      "21/21 [==============================] - 1s 1ms/step - loss: 795702.8750\n",
      "Epoch 2/250\n",
      "21/21 [==============================] - 0s 903us/step - loss: 795453.8125\n",
      "Epoch 3/250\n",
      "21/21 [==============================] - 0s 939us/step - loss: 795205.3750\n",
      "Epoch 4/250\n",
      "21/21 [==============================] - 0s 870us/step - loss: 794933.0625\n",
      "Epoch 5/250\n",
      "21/21 [==============================] - 0s 969us/step - loss: 794632.0625\n",
      "Epoch 6/250\n",
      "21/21 [==============================] - 0s 947us/step - loss: 794302.5625\n",
      "Epoch 7/250\n",
      "21/21 [==============================] - 0s 923us/step - loss: 793935.3125\n",
      "Epoch 8/250\n",
      "21/21 [==============================] - 0s 944us/step - loss: 793532.0625\n",
      "Epoch 9/250\n",
      "21/21 [==============================] - 0s 966us/step - loss: 793083.6250\n",
      "Epoch 10/250\n",
      "21/21 [==============================] - 0s 954us/step - loss: 792594.8125\n",
      "Epoch 11/250\n",
      "21/21 [==============================] - 0s 944us/step - loss: 792059.4375\n",
      "Epoch 12/250\n",
      "21/21 [==============================] - 0s 908us/step - loss: 791471.2500\n",
      "Epoch 13/250\n",
      "21/21 [==============================] - 0s 961us/step - loss: 790832.4375\n",
      "Epoch 14/250\n",
      "21/21 [==============================] - 0s 905us/step - loss: 790137.0000\n",
      "Epoch 15/250\n",
      "21/21 [==============================] - 0s 918us/step - loss: 789382.9375\n",
      "Epoch 16/250\n",
      "21/21 [==============================] - 0s 962us/step - loss: 788576.6250\n",
      "Epoch 17/250\n",
      "21/21 [==============================] - 0s 917us/step - loss: 787702.8750\n",
      "Epoch 18/250\n",
      "21/21 [==============================] - 0s 927us/step - loss: 786762.0625\n",
      "Epoch 19/250\n",
      "21/21 [==============================] - 0s 949us/step - loss: 785759.7500\n",
      "Epoch 20/250\n",
      "21/21 [==============================] - 0s 964us/step - loss: 784680.1875\n",
      "Epoch 21/250\n",
      "21/21 [==============================] - 0s 917us/step - loss: 783523.6875\n",
      "Epoch 22/250\n",
      "21/21 [==============================] - 0s 914us/step - loss: 782295.0625\n",
      "Epoch 23/250\n",
      "21/21 [==============================] - 0s 910us/step - loss: 780985.3750\n",
      "Epoch 24/250\n",
      "21/21 [==============================] - 0s 901us/step - loss: 779590.1250\n",
      "Epoch 25/250\n",
      "21/21 [==============================] - 0s 943us/step - loss: 778104.1250\n",
      "Epoch 26/250\n",
      "21/21 [==============================] - 0s 1ms/step - loss: 776529.0000\n",
      "Epoch 27/250\n",
      "21/21 [==============================] - 0s 1ms/step - loss: 774867.5625\n",
      "Epoch 28/250\n",
      "21/21 [==============================] - 0s 961us/step - loss: 773095.8125\n",
      "Epoch 29/250\n",
      "21/21 [==============================] - 0s 948us/step - loss: 771237.5000\n",
      "Epoch 30/250\n",
      "21/21 [==============================] - 0s 922us/step - loss: 769269.5625\n",
      "Epoch 31/250\n",
      "21/21 [==============================] - 0s 943us/step - loss: 767180.8750\n",
      "Epoch 32/250\n",
      "21/21 [==============================] - 0s 953us/step - loss: 764997.8125\n",
      "Epoch 33/250\n",
      "21/21 [==============================] - 0s 903us/step - loss: 762702.1875\n",
      "Epoch 34/250\n",
      "21/21 [==============================] - 0s 876us/step - loss: 760275.4375\n",
      "Epoch 35/250\n",
      "21/21 [==============================] - 0s 934us/step - loss: 757728.3750\n",
      "Epoch 36/250\n",
      "21/21 [==============================] - 0s 896us/step - loss: 755069.0000\n",
      "Epoch 37/250\n",
      "21/21 [==============================] - 0s 956us/step - loss: 752277.1875\n",
      "Epoch 38/250\n",
      "21/21 [==============================] - 0s 929us/step - loss: 749340.1250\n",
      "Epoch 39/250\n",
      "21/21 [==============================] - 0s 915us/step - loss: 746270.5000\n",
      "Epoch 40/250\n",
      "21/21 [==============================] - 0s 887us/step - loss: 743066.1875\n",
      "Epoch 41/250\n",
      "21/21 [==============================] - 0s 911us/step - loss: 739720.0000\n",
      "Epoch 42/250\n",
      "21/21 [==============================] - 0s 954us/step - loss: 736218.1875\n",
      "Epoch 43/250\n",
      "21/21 [==============================] - 0s 892us/step - loss: 732568.8750\n",
      "Epoch 44/250\n",
      "21/21 [==============================] - 0s 928us/step - loss: 728796.5625\n",
      "Epoch 45/250\n",
      "21/21 [==============================] - 0s 937us/step - loss: 724842.1875\n",
      "Epoch 46/250\n",
      "21/21 [==============================] - 0s 926us/step - loss: 720733.5625\n",
      "Epoch 47/250\n",
      "21/21 [==============================] - 0s 921us/step - loss: 716480.1250\n",
      "Epoch 48/250\n",
      "21/21 [==============================] - 0s 940us/step - loss: 712044.0625\n",
      "Epoch 49/250\n",
      "21/21 [==============================] - 0s 939us/step - loss: 707416.9375\n",
      "Epoch 50/250\n",
      "21/21 [==============================] - 0s 965us/step - loss: 702628.1875\n",
      "Epoch 51/250\n",
      "21/21 [==============================] - 0s 1ms/step - loss: 697675.2500\n",
      "Epoch 52/250\n",
      "21/21 [==============================] - 0s 977us/step - loss: 692550.3750\n",
      "Epoch 53/250\n",
      "21/21 [==============================] - 0s 901us/step - loss: 687234.1875\n",
      "Epoch 54/250\n",
      "21/21 [==============================] - 0s 937us/step - loss: 681760.8125\n",
      "Epoch 55/250\n",
      "21/21 [==============================] - 0s 902us/step - loss: 676048.6875\n",
      "Epoch 56/250\n",
      "21/21 [==============================] - 0s 892us/step - loss: 670184.3750\n",
      "Epoch 57/250\n",
      "21/21 [==============================] - 0s 890us/step - loss: 664125.7500\n",
      "Epoch 58/250\n",
      "21/21 [==============================] - 0s 951us/step - loss: 657842.9375\n",
      "Epoch 59/250\n",
      "21/21 [==============================] - 0s 935us/step - loss: 651409.3750\n",
      "Epoch 60/250\n",
      "21/21 [==============================] - 0s 945us/step - loss: 644770.3125\n",
      "Epoch 61/250\n",
      "21/21 [==============================] - 0s 952us/step - loss: 637935.2500\n",
      "Epoch 62/250\n",
      "21/21 [==============================] - 0s 935us/step - loss: 630869.6875\n",
      "Epoch 63/250\n",
      "21/21 [==============================] - 0s 956us/step - loss: 623625.6250\n",
      "Epoch 64/250\n",
      "21/21 [==============================] - 0s 961us/step - loss: 616212.3750\n",
      "Epoch 65/250\n",
      "21/21 [==============================] - 0s 990us/step - loss: 608580.7500\n",
      "Epoch 66/250\n",
      "21/21 [==============================] - 0s 974us/step - loss: 600719.4375\n",
      "Epoch 67/250\n",
      "21/21 [==============================] - 0s 965us/step - loss: 592654.0000\n",
      "Epoch 68/250\n",
      "21/21 [==============================] - 0s 977us/step - loss: 584380.7500\n",
      "Epoch 69/250\n",
      "21/21 [==============================] - 0s 958us/step - loss: 575942.1875\n",
      "Epoch 70/250\n",
      "21/21 [==============================] - 0s 1ms/step - loss: 567298.5000\n",
      "Epoch 71/250\n",
      "21/21 [==============================] - 0s 1ms/step - loss: 558440.1875\n",
      "Epoch 72/250\n",
      "21/21 [==============================] - 0s 985us/step - loss: 549364.0000\n",
      "Epoch 73/250\n",
      "21/21 [==============================] - 0s 1ms/step - loss: 540032.3125\n",
      "Epoch 74/250\n",
      "21/21 [==============================] - 0s 948us/step - loss: 530617.8125\n",
      "Epoch 75/250\n",
      "21/21 [==============================] - 0s 942us/step - loss: 520983.8438\n",
      "Epoch 76/250\n",
      "21/21 [==============================] - 0s 960us/step - loss: 511103.1250\n",
      "Epoch 77/250\n",
      "21/21 [==============================] - 0s 939us/step - loss: 501087.3438\n",
      "Epoch 78/250\n",
      "21/21 [==============================] - 0s 926us/step - loss: 490844.0000\n",
      "Epoch 79/250\n",
      "21/21 [==============================] - 0s 1ms/step - loss: 480409.0625\n",
      "Epoch 80/250\n",
      "21/21 [==============================] - 0s 883us/step - loss: 469812.2500\n",
      "Epoch 81/250\n",
      "21/21 [==============================] - 0s 813us/step - loss: 459069.8125\n",
      "Epoch 82/250\n",
      "21/21 [==============================] - 0s 858us/step - loss: 448159.9375\n",
      "Epoch 83/250\n",
      "21/21 [==============================] - 0s 875us/step - loss: 437073.2500\n",
      "Epoch 84/250\n",
      "21/21 [==============================] - 0s 862us/step - loss: 425833.3750\n",
      "Epoch 85/250\n",
      "21/21 [==============================] - 0s 906us/step - loss: 414430.7500\n",
      "Epoch 86/250\n",
      "21/21 [==============================] - 0s 958us/step - loss: 402896.7500\n",
      "Epoch 87/250\n",
      "21/21 [==============================] - 0s 973us/step - loss: 391141.0938\n",
      "Epoch 88/250\n",
      "21/21 [==============================] - 0s 980us/step - loss: 379332.9062\n",
      "Epoch 89/250\n",
      "21/21 [==============================] - 0s 1ms/step - loss: 367452.0000\n",
      "Epoch 90/250\n",
      "21/21 [==============================] - 0s 996us/step - loss: 355482.9688\n",
      "Epoch 91/250\n",
      "21/21 [==============================] - 0s 935us/step - loss: 343356.7812\n",
      "Epoch 92/250\n",
      "21/21 [==============================] - 0s 923us/step - loss: 331149.3125\n",
      "Epoch 93/250\n",
      "21/21 [==============================] - 0s 929us/step - loss: 318883.0938\n",
      "Epoch 94/250\n",
      "21/21 [==============================] - 0s 923us/step - loss: 306632.5625\n",
      "Epoch 95/250\n",
      "21/21 [==============================] - 0s 952us/step - loss: 294282.9688\n",
      "Epoch 96/250\n",
      "21/21 [==============================] - 0s 873us/step - loss: 281903.3750\n",
      "Epoch 97/250\n",
      "21/21 [==============================] - 0s 1ms/step - loss: 269477.6250\n",
      "Epoch 98/250\n",
      "21/21 [==============================] - 0s 924us/step - loss: 257055.9531\n",
      "Epoch 99/250\n",
      "21/21 [==============================] - 0s 942us/step - loss: 244670.1094\n",
      "Epoch 100/250\n",
      "21/21 [==============================] - 0s 926us/step - loss: 232315.2969\n",
      "Epoch 101/250\n",
      "21/21 [==============================] - 0s 899us/step - loss: 220034.0469\n",
      "Epoch 102/250\n",
      "21/21 [==============================] - 0s 885us/step - loss: 207780.4844\n",
      "Epoch 103/250\n",
      "21/21 [==============================] - 0s 870us/step - loss: 195753.6094\n",
      "Epoch 104/250\n",
      "21/21 [==============================] - 0s 885us/step - loss: 183829.5625\n",
      "Epoch 105/250\n",
      "21/21 [==============================] - 0s 950us/step - loss: 171952.7812\n",
      "Epoch 106/250\n",
      "21/21 [==============================] - 0s 881us/step - loss: 160319.2812\n",
      "Epoch 107/250\n",
      "21/21 [==============================] - 0s 905us/step - loss: 148879.7656\n",
      "Epoch 108/250\n",
      "21/21 [==============================] - 0s 934us/step - loss: 137606.3594\n",
      "Epoch 109/250\n",
      "21/21 [==============================] - 0s 909us/step - loss: 126623.3516\n",
      "Epoch 110/250\n",
      "21/21 [==============================] - 0s 926us/step - loss: 115951.1641\n",
      "Epoch 111/250\n",
      "21/21 [==============================] - 0s 895us/step - loss: 105587.1172\n",
      "Epoch 112/250\n",
      "21/21 [==============================] - 0s 900us/step - loss: 95511.1016\n",
      "Epoch 113/250\n",
      "21/21 [==============================] - 0s 893us/step - loss: 85865.3047\n",
      "Epoch 114/250\n",
      "21/21 [==============================] - 0s 932us/step - loss: 76577.1094\n",
      "Epoch 115/250\n",
      "21/21 [==============================] - 0s 890us/step - loss: 67741.5547\n",
      "Epoch 116/250\n",
      "21/21 [==============================] - 0s 844us/step - loss: 59438.8945\n",
      "Epoch 117/250\n",
      "21/21 [==============================] - 0s 855us/step - loss: 51615.1758\n",
      "Epoch 118/250\n",
      "21/21 [==============================] - 0s 891us/step - loss: 44293.7031\n",
      "Epoch 119/250\n",
      "21/21 [==============================] - 0s 946us/step - loss: 37657.7969\n",
      "Epoch 120/250\n",
      "21/21 [==============================] - 0s 944us/step - loss: 31579.2930\n",
      "Epoch 121/250\n",
      "21/21 [==============================] - 0s 942us/step - loss: 26151.5586\n",
      "Epoch 122/250\n",
      "21/21 [==============================] - 0s 953us/step - loss: 21441.2461\n",
      "Epoch 123/250\n",
      "21/21 [==============================] - 0s 941us/step - loss: 17477.3086\n",
      "Epoch 124/250\n",
      "21/21 [==============================] - 0s 935us/step - loss: 14288.0449\n",
      "Epoch 125/250\n",
      "21/21 [==============================] - 0s 938us/step - loss: 11953.7109\n",
      "Epoch 126/250\n",
      "21/21 [==============================] - 0s 873us/step - loss: 10333.8086\n",
      "Epoch 127/250\n",
      "21/21 [==============================] - 0s 826us/step - loss: 9430.2158\n",
      "Epoch 128/250\n",
      "21/21 [==============================] - 0s 853us/step - loss: 9027.1885\n",
      "Epoch 129/250\n",
      "21/21 [==============================] - 0s 908us/step - loss: 8856.7842\n",
      "Epoch 130/250\n",
      "21/21 [==============================] - 0s 920us/step - loss: 8760.5039\n",
      "Epoch 131/250\n",
      "21/21 [==============================] - 0s 941us/step - loss: 8673.3135\n",
      "Epoch 132/250\n",
      "21/21 [==============================] - 0s 942us/step - loss: 8589.3623\n",
      "Epoch 133/250\n",
      "21/21 [==============================] - 0s 946us/step - loss: 8499.0273\n",
      "Epoch 134/250\n",
      "21/21 [==============================] - 0s 939us/step - loss: 8404.0645\n",
      "Epoch 135/250\n",
      "21/21 [==============================] - 0s 907us/step - loss: 8316.2539\n",
      "Epoch 136/250\n",
      "21/21 [==============================] - 0s 894us/step - loss: 8220.4053\n",
      "Epoch 137/250\n",
      "21/21 [==============================] - 0s 973us/step - loss: 8131.1450\n",
      "Epoch 138/250\n",
      "21/21 [==============================] - 0s 955us/step - loss: 8044.2256\n",
      "Epoch 139/250\n",
      "21/21 [==============================] - 0s 951us/step - loss: 7949.5186\n",
      "Epoch 140/250\n",
      "21/21 [==============================] - 0s 910us/step - loss: 7861.5752\n",
      "Epoch 141/250\n",
      "21/21 [==============================] - 0s 945us/step - loss: 7773.0322\n",
      "Epoch 142/250\n",
      "21/21 [==============================] - 0s 935us/step - loss: 7690.9551\n",
      "Epoch 143/250\n",
      "21/21 [==============================] - 0s 858us/step - loss: 7603.8291\n",
      "Epoch 144/250\n",
      "21/21 [==============================] - 0s 883us/step - loss: 7530.1685\n",
      "Epoch 145/250\n",
      "21/21 [==============================] - 0s 896us/step - loss: 7439.6001\n",
      "Epoch 146/250\n",
      "21/21 [==============================] - 0s 891us/step - loss: 7347.2544\n",
      "Epoch 147/250\n",
      "21/21 [==============================] - 0s 863us/step - loss: 7255.3301\n",
      "Epoch 148/250\n",
      "21/21 [==============================] - 0s 870us/step - loss: 7166.3013\n",
      "Epoch 149/250\n",
      "21/21 [==============================] - 0s 845us/step - loss: 7079.5508\n",
      "Epoch 150/250\n",
      "21/21 [==============================] - 0s 873us/step - loss: 6999.3872\n",
      "Epoch 151/250\n",
      "21/21 [==============================] - 0s 862us/step - loss: 6911.2427\n",
      "Epoch 152/250\n",
      "21/21 [==============================] - 0s 860us/step - loss: 6827.3857\n",
      "Epoch 153/250\n",
      "21/21 [==============================] - 0s 863us/step - loss: 6741.4536\n",
      "Epoch 154/250\n",
      "21/21 [==============================] - 0s 885us/step - loss: 6659.8643\n",
      "Epoch 155/250\n",
      "21/21 [==============================] - 0s 893us/step - loss: 6581.9604\n",
      "Epoch 156/250\n",
      "21/21 [==============================] - 0s 987us/step - loss: 6491.0664\n",
      "Epoch 157/250\n",
      "21/21 [==============================] - 0s 962us/step - loss: 6409.9814\n",
      "Epoch 158/250\n",
      "21/21 [==============================] - 0s 925us/step - loss: 6327.4194\n",
      "Epoch 159/250\n",
      "21/21 [==============================] - 0s 921us/step - loss: 6247.0308\n",
      "Epoch 160/250\n",
      "21/21 [==============================] - 0s 844us/step - loss: 6169.6431\n",
      "Epoch 161/250\n",
      "21/21 [==============================] - 0s 843us/step - loss: 6085.5664\n",
      "Epoch 162/250\n",
      "21/21 [==============================] - 0s 858us/step - loss: 6015.6670\n",
      "Epoch 163/250\n",
      "21/21 [==============================] - 0s 877us/step - loss: 5933.0605\n",
      "Epoch 164/250\n",
      "21/21 [==============================] - 0s 919us/step - loss: 5867.6172\n",
      "Epoch 165/250\n",
      "21/21 [==============================] - 0s 941us/step - loss: 5791.9531\n",
      "Epoch 166/250\n",
      "21/21 [==============================] - 0s 918us/step - loss: 5708.0063\n",
      "Epoch 167/250\n",
      "21/21 [==============================] - 0s 862us/step - loss: 5632.2715\n",
      "Epoch 168/250\n",
      "21/21 [==============================] - 0s 854us/step - loss: 5555.2197\n",
      "Epoch 169/250\n",
      "21/21 [==============================] - 0s 888us/step - loss: 5479.3301\n",
      "Epoch 170/250\n",
      "21/21 [==============================] - 0s 880us/step - loss: 5404.9170\n",
      "Epoch 171/250\n",
      "21/21 [==============================] - 0s 956us/step - loss: 5338.1177\n",
      "Epoch 172/250\n",
      "21/21 [==============================] - 0s 897us/step - loss: 5255.4375\n",
      "Epoch 173/250\n",
      "21/21 [==============================] - 0s 895us/step - loss: 5181.9639\n",
      "Epoch 174/250\n",
      "21/21 [==============================] - 0s 923us/step - loss: 5114.9321\n",
      "Epoch 175/250\n",
      "21/21 [==============================] - 0s 868us/step - loss: 5038.9771\n",
      "Epoch 176/250\n",
      "21/21 [==============================] - 0s 899us/step - loss: 4958.6167\n",
      "Epoch 177/250\n",
      "21/21 [==============================] - 0s 870us/step - loss: 4891.2324\n",
      "Epoch 178/250\n",
      "21/21 [==============================] - 0s 880us/step - loss: 4819.6523\n",
      "Epoch 179/250\n",
      "21/21 [==============================] - 0s 831us/step - loss: 4747.0791\n",
      "Epoch 180/250\n",
      "21/21 [==============================] - 0s 874us/step - loss: 4677.9355\n",
      "Epoch 181/250\n",
      "21/21 [==============================] - 0s 850us/step - loss: 4606.3530\n",
      "Epoch 182/250\n",
      "21/21 [==============================] - 0s 926us/step - loss: 4531.5396\n",
      "Epoch 183/250\n",
      "21/21 [==============================] - 0s 911us/step - loss: 4459.3530\n",
      "Epoch 184/250\n",
      "21/21 [==============================] - 0s 911us/step - loss: 4392.0640\n",
      "Epoch 185/250\n",
      "21/21 [==============================] - 0s 829us/step - loss: 4328.4136\n",
      "Epoch 186/250\n",
      "21/21 [==============================] - 0s 946us/step - loss: 4256.0469\n",
      "Epoch 187/250\n",
      "21/21 [==============================] - 0s 993us/step - loss: 4195.3472\n",
      "Epoch 188/250\n",
      "21/21 [==============================] - 0s 922us/step - loss: 4126.5771\n",
      "Epoch 189/250\n",
      "21/21 [==============================] - 0s 928us/step - loss: 4059.4900\n",
      "Epoch 190/250\n",
      "21/21 [==============================] - 0s 915us/step - loss: 3980.4229\n",
      "Epoch 191/250\n",
      "21/21 [==============================] - 0s 916us/step - loss: 3921.3271\n",
      "Epoch 192/250\n",
      "21/21 [==============================] - 0s 933us/step - loss: 3855.4187\n",
      "Epoch 193/250\n",
      "21/21 [==============================] - 0s 903us/step - loss: 3789.2874\n",
      "Epoch 194/250\n",
      "21/21 [==============================] - 0s 949us/step - loss: 3723.1057\n",
      "Epoch 195/250\n",
      "21/21 [==============================] - 0s 869us/step - loss: 3653.1128\n",
      "Epoch 196/250\n",
      "21/21 [==============================] - 0s 912us/step - loss: 3591.6638\n",
      "Epoch 197/250\n",
      "21/21 [==============================] - 0s 915us/step - loss: 3522.7495\n",
      "Epoch 198/250\n",
      "21/21 [==============================] - 0s 900us/step - loss: 3454.0276\n",
      "Epoch 199/250\n",
      "21/21 [==============================] - 0s 909us/step - loss: 3386.2395\n",
      "Epoch 200/250\n",
      "21/21 [==============================] - 0s 893us/step - loss: 3317.9221\n",
      "Epoch 201/250\n",
      "21/21 [==============================] - 0s 930us/step - loss: 3258.4839\n",
      "Epoch 202/250\n",
      "21/21 [==============================] - 0s 853us/step - loss: 3193.0515\n",
      "Epoch 203/250\n",
      "21/21 [==============================] - 0s 882us/step - loss: 3131.1519\n",
      "Epoch 204/250\n",
      "21/21 [==============================] - 0s 916us/step - loss: 3070.7627\n",
      "Epoch 205/250\n",
      "21/21 [==============================] - 0s 944us/step - loss: 3012.1240\n",
      "Epoch 206/250\n",
      "21/21 [==============================] - 0s 906us/step - loss: 2950.5168\n",
      "Epoch 207/250\n",
      "21/21 [==============================] - 0s 962us/step - loss: 2902.8745\n",
      "Epoch 208/250\n",
      "21/21 [==============================] - 0s 934us/step - loss: 2846.3403\n",
      "Epoch 209/250\n",
      "21/21 [==============================] - 0s 923us/step - loss: 2788.3867\n",
      "Epoch 210/250\n",
      "21/21 [==============================] - 0s 927us/step - loss: 2729.9006\n",
      "Epoch 211/250\n",
      "21/21 [==============================] - 0s 912us/step - loss: 2670.5088\n",
      "Epoch 212/250\n",
      "21/21 [==============================] - 0s 978us/step - loss: 2611.2817\n",
      "Epoch 213/250\n",
      "21/21 [==============================] - 0s 900us/step - loss: 2551.9309\n",
      "Epoch 214/250\n",
      "21/21 [==============================] - 0s 898us/step - loss: 2494.1497\n",
      "Epoch 215/250\n",
      "21/21 [==============================] - 0s 927us/step - loss: 2440.4546\n",
      "Epoch 216/250\n",
      "21/21 [==============================] - 0s 933us/step - loss: 2390.3823\n",
      "Epoch 217/250\n",
      "21/21 [==============================] - 0s 913us/step - loss: 2330.8120\n",
      "Epoch 218/250\n",
      "21/21 [==============================] - 0s 969us/step - loss: 2277.9109\n",
      "Epoch 219/250\n",
      "21/21 [==============================] - 0s 917us/step - loss: 2217.2317\n",
      "Epoch 220/250\n",
      "21/21 [==============================] - 0s 989us/step - loss: 2162.1570\n",
      "Epoch 221/250\n",
      "21/21 [==============================] - 0s 1ms/step - loss: 2106.5376\n",
      "Epoch 222/250\n",
      "21/21 [==============================] - 0s 916us/step - loss: 2055.6047\n",
      "Epoch 223/250\n",
      "21/21 [==============================] - 0s 914us/step - loss: 1997.1392\n",
      "Epoch 224/250\n",
      "21/21 [==============================] - 0s 918us/step - loss: 1936.8380\n",
      "Epoch 225/250\n",
      "21/21 [==============================] - 0s 884us/step - loss: 1885.9177\n",
      "Epoch 226/250\n",
      "21/21 [==============================] - 0s 929us/step - loss: 1835.8203\n",
      "Epoch 227/250\n",
      "21/21 [==============================] - 0s 970us/step - loss: 1785.5524\n",
      "Epoch 228/250\n",
      "21/21 [==============================] - 0s 964us/step - loss: 1730.3969\n",
      "Epoch 229/250\n",
      "21/21 [==============================] - 0s 960us/step - loss: 1679.0070\n",
      "Epoch 230/250\n",
      "21/21 [==============================] - 0s 929us/step - loss: 1625.4764\n",
      "Epoch 231/250\n",
      "21/21 [==============================] - 0s 931us/step - loss: 1573.4908\n",
      "Epoch 232/250\n",
      "21/21 [==============================] - 0s 965us/step - loss: 1530.9109\n",
      "Epoch 233/250\n",
      "21/21 [==============================] - 0s 971us/step - loss: 1490.4081\n",
      "Epoch 234/250\n",
      "21/21 [==============================] - 0s 883us/step - loss: 1450.9506\n",
      "Epoch 235/250\n",
      "21/21 [==============================] - 0s 981us/step - loss: 1407.3723\n",
      "Epoch 236/250\n",
      "21/21 [==============================] - 0s 944us/step - loss: 1360.3693\n",
      "Epoch 237/250\n",
      "21/21 [==============================] - 0s 977us/step - loss: 1315.4857\n",
      "Epoch 238/250\n",
      "21/21 [==============================] - 0s 920us/step - loss: 1266.7301\n",
      "Epoch 239/250\n",
      "21/21 [==============================] - 0s 898us/step - loss: 1234.6572\n",
      "Epoch 240/250\n",
      "21/21 [==============================] - 0s 929us/step - loss: 1191.9926\n",
      "Epoch 241/250\n",
      "21/21 [==============================] - 0s 954us/step - loss: 1157.3918\n",
      "Epoch 242/250\n",
      "21/21 [==============================] - 0s 931us/step - loss: 1118.8256\n",
      "Epoch 243/250\n",
      "21/21 [==============================] - 0s 969us/step - loss: 1079.3385\n",
      "Epoch 244/250\n",
      "21/21 [==============================] - 0s 917us/step - loss: 1038.9191\n",
      "Epoch 245/250\n",
      "21/21 [==============================] - 0s 953us/step - loss: 1004.1089\n",
      "Epoch 246/250\n",
      "21/21 [==============================] - 0s 884us/step - loss: 966.8794\n",
      "Epoch 247/250\n",
      "21/21 [==============================] - 0s 923us/step - loss: 931.0035\n",
      "Epoch 248/250\n",
      "21/21 [==============================] - 0s 960us/step - loss: 895.3959\n",
      "Epoch 249/250\n",
      "21/21 [==============================] - 0s 962us/step - loss: 859.7140\n",
      "Epoch 250/250\n",
      "21/21 [==============================] - 0s 954us/step - loss: 824.3720\n"
     ]
    },
    {
     "data": {
      "text/plain": [
       "<keras.callbacks.History at 0x1de5ef0df90>"
      ]
     },
     "execution_count": 30,
     "metadata": {},
     "output_type": "execute_result"
    }
   ],
   "source": [
    "model.fit(x_train,y_train,epochs=250)"
   ]
  },
  {
   "cell_type": "code",
   "execution_count": 36,
   "id": "3c55e42b",
   "metadata": {},
   "outputs": [],
   "source": [
    "loss =model.history.history[\"loss\"]"
   ]
  },
  {
   "cell_type": "code",
   "execution_count": 37,
   "id": "31028297",
   "metadata": {},
   "outputs": [
    {
     "name": "stderr",
     "output_type": "stream",
     "text": [
      "C:\\Users\\yusuf\\anaconda3\\envs\\pppp11\\lib\\site-packages\\seaborn\\_oldcore.py:1119: FutureWarning: use_inf_as_na option is deprecated and will be removed in a future version. Convert inf values to NaN before operating instead.\n",
      "  with pd.option_context('mode.use_inf_as_na', True):\n",
      "C:\\Users\\yusuf\\anaconda3\\envs\\pppp11\\lib\\site-packages\\seaborn\\_oldcore.py:1119: FutureWarning: use_inf_as_na option is deprecated and will be removed in a future version. Convert inf values to NaN before operating instead.\n",
      "  with pd.option_context('mode.use_inf_as_na', True):\n"
     ]
    },
    {
     "data": {
      "text/plain": [
       "<Axes: >"
      ]
     },
     "execution_count": 37,
     "metadata": {},
     "output_type": "execute_result"
    },
    {
     "data": {
      "image/png": "[encoded data removed]",
      "text/plain": [
       "<Figure size 640x480 with 1 Axes>"
      ]
     },
     "metadata": {},
     "output_type": "display_data"
    }
   ],
   "source": [
    "sbn.lineplot(x=range(len(loss)),y=loss)"
   ]
  },
  {
   "cell_type": "code",
   "execution_count": 40,
   "id": "9b28e1ba",
   "metadata": {},
   "outputs": [],
   "source": [
    "trainLoss = model.evaluate(x_train,y_train, verbose=0)"
   ]
  },
  {
   "cell_type": "code",
   "execution_count": 41,
   "id": "10d2743e",
   "metadata": {},
   "outputs": [],
   "source": [
    "testLoss = model.evaluate(x_test,y_test,verbose=0)"
   ]
  },
  {
   "cell_type": "code",
   "execution_count": 42,
   "id": "7444b912",
   "metadata": {},
   "outputs": [
    {
     "data": {
      "text/plain": [
       "804.2073974609375"
      ]
     },
     "execution_count": 42,
     "metadata": {},
     "output_type": "execute_result"
    }
   ],
   "source": [
    "trainLoss"
   ]
  },
  {
   "cell_type": "code",
   "execution_count": 43,
   "id": "295fd371",
   "metadata": {},
   "outputs": [
    {
     "data": {
      "text/plain": [
       "785.71630859375"
      ]
     },
     "execution_count": 43,
     "metadata": {},
     "output_type": "execute_result"
    }
   ],
   "source": [
    "testLoss"
   ]
  },
  {
   "cell_type": "code",
   "execution_count": 71,
   "id": "7eabc1b6",
   "metadata": {},
   "outputs": [
    {
     "name": "stdout",
     "output_type": "stream",
     "text": [
      "11/11 [==============================] - 0s 874us/step\n"
     ]
    }
   ],
   "source": [
    "testTahminen = model.predict(x_test)"
   ]
  },
  {
   "cell_type": "code",
   "execution_count": 73,
   "id": "2f1a82ca",
   "metadata": {},
   "outputs": [
    {
     "data": {
      "text/plain": [
       "array([[1051.419  ],\n",
       "       [ 672.5573 ],\n",
       "       [ 884.4523 ],\n",
       "       [ 888.486  ],\n",
       "       [ 891.0529 ],\n",
       "       [ 510.48715],\n",
       "       [ 926.49146],\n",
       "       [ 975.0937 ],\n",
       "       [ 945.0342 ],\n",
       "       [ 999.25946],\n",
       "       [ 779.8347 ],\n",
       "       [ 924.4668 ],\n",
       "       [ 934.71063],\n",
       "       [1033.7139 ],\n",
       "       [1096.2347 ],\n",
       "       [ 716.1764 ],\n",
       "       [1084.1389 ],\n",
       "       [ 682.16345],\n",
       "       [1105.8212 ],\n",
       "       [ 892.68744],\n",
       "       [ 895.67114],\n",
       "       [ 755.9226 ],\n",
       "       [ 539.73914],\n",
       "       [ 650.18304],\n",
       "       [ 852.14886],\n",
       "       [1066.6262 ],\n",
       "       [ 743.106  ],\n",
       "       [ 778.7735 ],\n",
       "       [ 874.2297 ],\n",
       "       [ 790.9024 ],\n",
       "       [ 520.7158 ],\n",
       "       [ 808.38715],\n",
       "       [ 756.7291 ],\n",
       "       [ 684.77295],\n",
       "       [ 888.54047],\n",
       "       [ 853.20764],\n",
       "       [1017.8362 ],\n",
       "       [ 998.22675],\n",
       "       [ 858.6186 ],\n",
       "       [ 866.8378 ],\n",
       "       [ 783.46747],\n",
       "       [1126.775  ],\n",
       "       [1067.7782 ],\n",
       "       [1061.0479 ],\n",
       "       [ 889.148  ],\n",
       "       [ 648.2211 ],\n",
       "       [1096.9977 ],\n",
       "       [ 957.03894],\n",
       "       [1015.81604],\n",
       "       [ 870.7668 ],\n",
       "       [ 817.1432 ],\n",
       "       [ 862.40717],\n",
       "       [ 810.05066],\n",
       "       [1007.0072 ],\n",
       "       [1005.0072 ],\n",
       "       [ 937.74725],\n",
       "       [ 930.4489 ],\n",
       "       [1037.1444 ],\n",
       "       [ 895.68256],\n",
       "       [ 992.2141 ],\n",
       "       [ 804.2657 ],\n",
       "       [ 859.2275 ],\n",
       "       [ 743.7613 ],\n",
       "       [ 887.0027 ],\n",
       "       [ 964.15576],\n",
       "       [ 727.7573 ],\n",
       "       [ 824.4573 ],\n",
       "       [ 820.6025 ],\n",
       "       [ 870.7382 ],\n",
       "       [ 838.621  ],\n",
       "       [ 815.1701 ],\n",
       "       [ 932.8116 ],\n",
       "       [1035.2916 ],\n",
       "       [ 941.6202 ],\n",
       "       [ 981.8833 ],\n",
       "       [ 708.51117],\n",
       "       [ 685.99255],\n",
       "       [ 727.68677],\n",
       "       [ 882.5575 ],\n",
       "       [ 900.18695],\n",
       "       [ 962.758  ],\n",
       "       [ 975.2963 ],\n",
       "       [ 658.9049 ],\n",
       "       [ 868.7649 ],\n",
       "       [ 662.02704],\n",
       "       [ 959.5248 ],\n",
       "       [ 851.9206 ],\n",
       "       [ 898.71045],\n",
       "       [ 873.2354 ],\n",
       "       [ 680.22424],\n",
       "       [ 822.0403 ],\n",
       "       [ 739.86945],\n",
       "       [1152.3544 ],\n",
       "       [ 895.01514],\n",
       "       [ 845.7638 ],\n",
       "       [1074.6274 ],\n",
       "       [ 865.15656],\n",
       "       [ 955.87897],\n",
       "       [ 953.5298 ],\n",
       "       [ 515.23755],\n",
       "       [ 982.21936],\n",
       "       [1037.6346 ],\n",
       "       [ 881.13165],\n",
       "       [1032.1995 ],\n",
       "       [ 616.50214],\n",
       "       [ 698.0725 ],\n",
       "       [ 868.75995],\n",
       "       [ 748.29895],\n",
       "       [ 923.5678 ],\n",
       "       [ 917.07947],\n",
       "       [ 750.03876],\n",
       "       [ 897.69073],\n",
       "       [ 967.27026],\n",
       "       [1047.5262 ],\n",
       "       [ 716.6602 ],\n",
       "       [ 902.11414],\n",
       "       [ 862.54504],\n",
       "       [ 871.1552 ],\n",
       "       [1008.8512 ],\n",
       "       [ 794.97205],\n",
       "       [ 748.63776],\n",
       "       [ 860.91565],\n",
       "       [1097.1373 ],\n",
       "       [ 807.8139 ],\n",
       "       [ 849.736  ],\n",
       "       [ 899.931  ],\n",
       "       [ 804.32227],\n",
       "       [ 929.42065],\n",
       "       [ 961.7723 ],\n",
       "       [ 915.2786 ],\n",
       "       [ 926.0658 ],\n",
       "       [1065.1655 ],\n",
       "       [1017.5198 ],\n",
       "       [ 820.404  ],\n",
       "       [ 775.2516 ],\n",
       "       [ 793.0323 ],\n",
       "       [ 758.83704],\n",
       "       [ 761.4934 ],\n",
       "       [ 714.12885],\n",
       "       [1093.9718 ],\n",
       "       [ 687.88586],\n",
       "       [ 968.51337],\n",
       "       [ 745.43146],\n",
       "       [ 904.36365],\n",
       "       [ 986.6576 ],\n",
       "       [ 660.0149 ],\n",
       "       [ 759.1071 ],\n",
       "       [ 801.05804],\n",
       "       [ 870.96606],\n",
       "       [ 763.165  ],\n",
       "       [ 616.2909 ],\n",
       "       [ 690.23126],\n",
       "       [ 758.90485],\n",
       "       [1019.2969 ],\n",
       "       [1086.3287 ],\n",
       "       [ 906.647  ],\n",
       "       [ 745.4279 ],\n",
       "       [ 818.4533 ],\n",
       "       [ 872.8728 ],\n",
       "       [ 944.7439 ],\n",
       "       [ 653.61774],\n",
       "       [ 856.45856],\n",
       "       [ 886.4241 ],\n",
       "       [ 667.51587],\n",
       "       [ 922.6381 ],\n",
       "       [ 984.014  ],\n",
       "       [1149.9641 ],\n",
       "       [ 833.51514],\n",
       "       [ 768.02405],\n",
       "       [ 950.28577],\n",
       "       [ 751.7943 ],\n",
       "       [ 991.9324 ],\n",
       "       [1178.1168 ],\n",
       "       [ 897.77966],\n",
       "       [ 886.11505],\n",
       "       [ 685.67426],\n",
       "       [ 651.39246],\n",
       "       [ 773.74506],\n",
       "       [ 954.08276],\n",
       "       [ 722.6244 ],\n",
       "       [ 790.9195 ],\n",
       "       [ 826.76874],\n",
       "       [ 728.6052 ],\n",
       "       [ 920.047  ],\n",
       "       [ 876.164  ],\n",
       "       [ 657.5394 ],\n",
       "       [1047.324  ],\n",
       "       [ 940.2326 ],\n",
       "       [1122.0469 ],\n",
       "       [ 802.0515 ],\n",
       "       [ 893.5514 ],\n",
       "       [ 702.4995 ],\n",
       "       [ 707.458  ],\n",
       "       [ 763.36053],\n",
       "       [ 710.0206 ],\n",
       "       [1048.9181 ],\n",
       "       [ 812.23016],\n",
       "       [ 867.745  ],\n",
       "       [1104.7191 ],\n",
       "       [ 632.86237],\n",
       "       [ 954.8494 ],\n",
       "       [ 697.70886],\n",
       "       [ 626.49585],\n",
       "       [ 785.3543 ],\n",
       "       [ 648.80493],\n",
       "       [ 997.4578 ],\n",
       "       [1007.4725 ],\n",
       "       [ 670.5291 ],\n",
       "       [ 936.7051 ],\n",
       "       [ 834.07324],\n",
       "       [1088.713  ],\n",
       "       [ 913.8372 ],\n",
       "       [ 882.96906],\n",
       "       [ 972.40674],\n",
       "       [1025.6273 ],\n",
       "       [ 896.20245],\n",
       "       [ 866.60394],\n",
       "       [ 846.3982 ],\n",
       "       [ 701.2415 ],\n",
       "       [1280.8779 ],\n",
       "       [ 930.0529 ],\n",
       "       [ 590.1388 ],\n",
       "       [ 807.425  ],\n",
       "       [ 977.6292 ],\n",
       "       [ 861.8861 ],\n",
       "       [ 816.5775 ],\n",
       "       [ 725.23346],\n",
       "       [ 796.13873],\n",
       "       [ 972.0342 ],\n",
       "       [ 921.8573 ],\n",
       "       [ 981.4146 ],\n",
       "       [ 945.2651 ],\n",
       "       [ 907.5897 ],\n",
       "       [ 776.99506],\n",
       "       [1034.7937 ],\n",
       "       [1096.5062 ],\n",
       "       [ 996.0386 ],\n",
       "       [ 990.43494],\n",
       "       [ 988.2664 ],\n",
       "       [ 863.10486],\n",
       "       [ 991.39685],\n",
       "       [ 669.4863 ],\n",
       "       [ 900.04877],\n",
       "       [1046.4896 ],\n",
       "       [ 803.42847],\n",
       "       [ 623.7729 ],\n",
       "       [ 647.08636],\n",
       "       [ 987.0081 ],\n",
       "       [ 882.7908 ],\n",
       "       [1045.5922 ],\n",
       "       [ 853.9719 ],\n",
       "       [ 773.4685 ],\n",
       "       [ 595.9013 ],\n",
       "       [ 871.65424],\n",
       "       [ 796.71594],\n",
       "       [ 860.54486],\n",
       "       [ 887.7358 ],\n",
       "       [ 904.44366],\n",
       "       [ 670.33417],\n",
       "       [1001.20764],\n",
       "       [ 668.90594],\n",
       "       [ 884.9669 ],\n",
       "       [ 807.894  ],\n",
       "       [ 918.6571 ],\n",
       "       [ 951.9261 ],\n",
       "       [ 797.7318 ],\n",
       "       [ 887.2054 ],\n",
       "       [1117.9891 ],\n",
       "       [ 988.80023],\n",
       "       [ 858.1531 ],\n",
       "       [1057.8126 ],\n",
       "       [ 984.7186 ],\n",
       "       [ 628.71875],\n",
       "       [ 593.14624],\n",
       "       [ 972.17456],\n",
       "       [1022.1321 ],\n",
       "       [ 947.6633 ],\n",
       "       [ 910.87384],\n",
       "       [ 489.84424],\n",
       "       [1014.3629 ],\n",
       "       [ 925.52185],\n",
       "       [ 831.94226],\n",
       "       [ 930.7038 ],\n",
       "       [ 929.0666 ],\n",
       "       [ 978.54486],\n",
       "       [ 959.8009 ],\n",
       "       [ 960.83295],\n",
       "       [ 659.1194 ],\n",
       "       [ 953.3603 ],\n",
       "       [ 969.1825 ],\n",
       "       [ 892.62836],\n",
       "       [ 868.30566],\n",
       "       [ 759.58527],\n",
       "       [ 931.65155],\n",
       "       [ 886.86115],\n",
       "       [ 825.60126],\n",
       "       [ 961.9282 ],\n",
       "       [ 835.56537],\n",
       "       [ 991.1357 ],\n",
       "       [ 660.87775],\n",
       "       [ 625.1395 ],\n",
       "       [ 752.6935 ],\n",
       "       [ 822.5573 ],\n",
       "       [ 896.74536],\n",
       "       [1174.807  ],\n",
       "       [ 653.1702 ],\n",
       "       [1018.11554],\n",
       "       [ 702.15424],\n",
       "       [1096.9617 ],\n",
       "       [ 819.3718 ],\n",
       "       [1156.8574 ],\n",
       "       [ 796.97046],\n",
       "       [ 686.91785],\n",
       "       [ 879.0307 ],\n",
       "       [ 916.2207 ],\n",
       "       [ 858.0092 ],\n",
       "       [ 714.1573 ],\n",
       "       [ 983.5654 ],\n",
       "       [1062.6566 ],\n",
       "       [ 784.4507 ],\n",
       "       [ 908.07025],\n",
       "       [1036.7161 ],\n",
       "       [ 965.1221 ],\n",
       "       [ 735.5626 ],\n",
       "       [ 645.8058 ],\n",
       "       [ 999.6713 ],\n",
       "       [ 804.1711 ],\n",
       "       [ 793.5127 ],\n",
       "       [1129.6122 ],\n",
       "       [ 810.7591 ]], dtype=float32)"
      ]
     },
     "execution_count": 73,
     "metadata": {},
     "output_type": "execute_result"
    }
   ],
   "source": [
    "testTahminen"
   ]
  },
  {
   "cell_type": "code",
   "execution_count": 74,
   "id": "4f8479ba",
   "metadata": {},
   "outputs": [],
   "source": [
    "tahminDfsi = pd.DataFrame(y_test,columns=[\"Gerçek Y\"])"
   ]
  },
  {
   "cell_type": "code",
   "execution_count": 75,
   "id": "d94b8f5d",
   "metadata": {},
   "outputs": [
    {
     "data": {
      "text/html": [
       "<div>\n",
       "<style scoped>\n",
       "    .dataframe tbody tr th:only-of-type {\n",
       "        vertical-align: middle;\n",
       "    }\n",
       "\n",
       "    .dataframe tbody tr th {\n",
       "        vertical-align: top;\n",
       "    }\n",
       "\n",
       "    .dataframe thead th {\n",
       "        text-align: right;\n",
       "    }\n",
       "</style>\n",
       "<table border=\"1\" class=\"dataframe\">\n",
       "  <thead>\n",
       "    <tr style=\"text-align: right;\">\n",
       "      <th></th>\n",
       "      <th>Gerçek Y</th>\n",
       "    </tr>\n",
       "  </thead>\n",
       "  <tbody>\n",
       "    <tr>\n",
       "      <th>0</th>\n",
       "      <td>1081.652164</td>\n",
       "    </tr>\n",
       "    <tr>\n",
       "      <th>1</th>\n",
       "      <td>622.675990</td>\n",
       "    </tr>\n",
       "    <tr>\n",
       "      <th>2</th>\n",
       "      <td>889.356810</td>\n",
       "    </tr>\n",
       "    <tr>\n",
       "      <th>3</th>\n",
       "      <td>902.826733</td>\n",
       "    </tr>\n",
       "    <tr>\n",
       "      <th>4</th>\n",
       "      <td>897.662404</td>\n",
       "    </tr>\n",
       "    <tr>\n",
       "      <th>...</th>\n",
       "      <td>...</td>\n",
       "    </tr>\n",
       "    <tr>\n",
       "      <th>325</th>\n",
       "      <td>1028.438035</td>\n",
       "    </tr>\n",
       "    <tr>\n",
       "      <th>326</th>\n",
       "      <td>789.934950</td>\n",
       "    </tr>\n",
       "    <tr>\n",
       "      <th>327</th>\n",
       "      <td>758.490486</td>\n",
       "    </tr>\n",
       "    <tr>\n",
       "      <th>328</th>\n",
       "      <td>1172.871659</td>\n",
       "    </tr>\n",
       "    <tr>\n",
       "      <th>329</th>\n",
       "      <td>820.947936</td>\n",
       "    </tr>\n",
       "  </tbody>\n",
       "</table>\n",
       "<p>330 rows × 1 columns</p>\n",
       "</div>"
      ],
      "text/plain": [
       "        Gerçek Y\n",
       "0    1081.652164\n",
       "1     622.675990\n",
       "2     889.356810\n",
       "3     902.826733\n",
       "4     897.662404\n",
       "..           ...\n",
       "325  1028.438035\n",
       "326   789.934950\n",
       "327   758.490486\n",
       "328  1172.871659\n",
       "329   820.947936\n",
       "\n",
       "[330 rows x 1 columns]"
      ]
     },
     "execution_count": 75,
     "metadata": {},
     "output_type": "execute_result"
    }
   ],
   "source": [
    "tahminDfsi"
   ]
  },
  {
   "cell_type": "code",
   "execution_count": 76,
   "id": "496cb5d1",
   "metadata": {},
   "outputs": [],
   "source": [
    "testTahminen = pd.Series(testTahminen.reshape(330,))"
   ]
  },
  {
   "cell_type": "code",
   "execution_count": 77,
   "id": "5bad0d89",
   "metadata": {},
   "outputs": [
    {
     "data": {
      "text/plain": [
       "0      1051.418945\n",
       "1       672.557312\n",
       "2       884.452271\n",
       "3       888.486023\n",
       "4       891.052917\n",
       "          ...     \n",
       "325     999.671326\n",
       "326     804.171082\n",
       "327     793.512695\n",
       "328    1129.612183\n",
       "329     810.759094\n",
       "Length: 330, dtype: float32"
      ]
     },
     "execution_count": 77,
     "metadata": {},
     "output_type": "execute_result"
    }
   ],
   "source": [
    "testTahminen"
   ]
  },
  {
   "cell_type": "code",
   "execution_count": 78,
   "id": "8f34aaf8",
   "metadata": {},
   "outputs": [],
   "source": [
    "tahminDfsi = pd.concat([tahminDfsi,testTahminen],axis=1)"
   ]
  },
  {
   "cell_type": "code",
   "execution_count": 79,
   "id": "178bd733",
   "metadata": {},
   "outputs": [
    {
     "data": {
      "text/html": [
       "<div>\n",
       "<style scoped>\n",
       "    .dataframe tbody tr th:only-of-type {\n",
       "        vertical-align: middle;\n",
       "    }\n",
       "\n",
       "    .dataframe tbody tr th {\n",
       "        vertical-align: top;\n",
       "    }\n",
       "\n",
       "    .dataframe thead th {\n",
       "        text-align: right;\n",
       "    }\n",
       "</style>\n",
       "<table border=\"1\" class=\"dataframe\">\n",
       "  <thead>\n",
       "    <tr style=\"text-align: right;\">\n",
       "      <th></th>\n",
       "      <th>Gerçek Y</th>\n",
       "      <th>0</th>\n",
       "    </tr>\n",
       "  </thead>\n",
       "  <tbody>\n",
       "    <tr>\n",
       "      <th>0</th>\n",
       "      <td>1081.652164</td>\n",
       "      <td>1051.418945</td>\n",
       "    </tr>\n",
       "    <tr>\n",
       "      <th>1</th>\n",
       "      <td>622.675990</td>\n",
       "      <td>672.557312</td>\n",
       "    </tr>\n",
       "    <tr>\n",
       "      <th>2</th>\n",
       "      <td>889.356810</td>\n",
       "      <td>884.452271</td>\n",
       "    </tr>\n",
       "    <tr>\n",
       "      <th>3</th>\n",
       "      <td>902.826733</td>\n",
       "      <td>888.486023</td>\n",
       "    </tr>\n",
       "    <tr>\n",
       "      <th>4</th>\n",
       "      <td>897.662404</td>\n",
       "      <td>891.052917</td>\n",
       "    </tr>\n",
       "    <tr>\n",
       "      <th>...</th>\n",
       "      <td>...</td>\n",
       "      <td>...</td>\n",
       "    </tr>\n",
       "    <tr>\n",
       "      <th>325</th>\n",
       "      <td>1028.438035</td>\n",
       "      <td>999.671326</td>\n",
       "    </tr>\n",
       "    <tr>\n",
       "      <th>326</th>\n",
       "      <td>789.934950</td>\n",
       "      <td>804.171082</td>\n",
       "    </tr>\n",
       "    <tr>\n",
       "      <th>327</th>\n",
       "      <td>758.490486</td>\n",
       "      <td>793.512695</td>\n",
       "    </tr>\n",
       "    <tr>\n",
       "      <th>328</th>\n",
       "      <td>1172.871659</td>\n",
       "      <td>1129.612183</td>\n",
       "    </tr>\n",
       "    <tr>\n",
       "      <th>329</th>\n",
       "      <td>820.947936</td>\n",
       "      <td>810.759094</td>\n",
       "    </tr>\n",
       "  </tbody>\n",
       "</table>\n",
       "<p>330 rows × 2 columns</p>\n",
       "</div>"
      ],
      "text/plain": [
       "        Gerçek Y            0\n",
       "0    1081.652164  1051.418945\n",
       "1     622.675990   672.557312\n",
       "2     889.356810   884.452271\n",
       "3     902.826733   888.486023\n",
       "4     897.662404   891.052917\n",
       "..           ...          ...\n",
       "325  1028.438035   999.671326\n",
       "326   789.934950   804.171082\n",
       "327   758.490486   793.512695\n",
       "328  1172.871659  1129.612183\n",
       "329   820.947936   810.759094\n",
       "\n",
       "[330 rows x 2 columns]"
      ]
     },
     "execution_count": 79,
     "metadata": {},
     "output_type": "execute_result"
    }
   ],
   "source": [
    "tahminDfsi"
   ]
  },
  {
   "cell_type": "code",
   "execution_count": 80,
   "id": "8b6d1339",
   "metadata": {},
   "outputs": [],
   "source": [
    "tahminDfsi.columns = [\"Gerçek Y\", \"Tahmin Y\"]"
   ]
  },
  {
   "cell_type": "code",
   "execution_count": 81,
   "id": "53548f34",
   "metadata": {},
   "outputs": [
    {
     "data": {
      "text/html": [
       "<div>\n",
       "<style scoped>\n",
       "    .dataframe tbody tr th:only-of-type {\n",
       "        vertical-align: middle;\n",
       "    }\n",
       "\n",
       "    .dataframe tbody tr th {\n",
       "        vertical-align: top;\n",
       "    }\n",
       "\n",
       "    .dataframe thead th {\n",
       "        text-align: right;\n",
       "    }\n",
       "</style>\n",
       "<table border=\"1\" class=\"dataframe\">\n",
       "  <thead>\n",
       "    <tr style=\"text-align: right;\">\n",
       "      <th></th>\n",
       "      <th>Gerçek Y</th>\n",
       "      <th>Tahmin Y</th>\n",
       "    </tr>\n",
       "  </thead>\n",
       "  <tbody>\n",
       "    <tr>\n",
       "      <th>0</th>\n",
       "      <td>1081.652164</td>\n",
       "      <td>1051.418945</td>\n",
       "    </tr>\n",
       "    <tr>\n",
       "      <th>1</th>\n",
       "      <td>622.675990</td>\n",
       "      <td>672.557312</td>\n",
       "    </tr>\n",
       "    <tr>\n",
       "      <th>2</th>\n",
       "      <td>889.356810</td>\n",
       "      <td>884.452271</td>\n",
       "    </tr>\n",
       "    <tr>\n",
       "      <th>3</th>\n",
       "      <td>902.826733</td>\n",
       "      <td>888.486023</td>\n",
       "    </tr>\n",
       "    <tr>\n",
       "      <th>4</th>\n",
       "      <td>897.662404</td>\n",
       "      <td>891.052917</td>\n",
       "    </tr>\n",
       "    <tr>\n",
       "      <th>...</th>\n",
       "      <td>...</td>\n",
       "      <td>...</td>\n",
       "    </tr>\n",
       "    <tr>\n",
       "      <th>325</th>\n",
       "      <td>1028.438035</td>\n",
       "      <td>999.671326</td>\n",
       "    </tr>\n",
       "    <tr>\n",
       "      <th>326</th>\n",
       "      <td>789.934950</td>\n",
       "      <td>804.171082</td>\n",
       "    </tr>\n",
       "    <tr>\n",
       "      <th>327</th>\n",
       "      <td>758.490486</td>\n",
       "      <td>793.512695</td>\n",
       "    </tr>\n",
       "    <tr>\n",
       "      <th>328</th>\n",
       "      <td>1172.871659</td>\n",
       "      <td>1129.612183</td>\n",
       "    </tr>\n",
       "    <tr>\n",
       "      <th>329</th>\n",
       "      <td>820.947936</td>\n",
       "      <td>810.759094</td>\n",
       "    </tr>\n",
       "  </tbody>\n",
       "</table>\n",
       "<p>330 rows × 2 columns</p>\n",
       "</div>"
      ],
      "text/plain": [
       "        Gerçek Y     Tahmin Y\n",
       "0    1081.652164  1051.418945\n",
       "1     622.675990   672.557312\n",
       "2     889.356810   884.452271\n",
       "3     902.826733   888.486023\n",
       "4     897.662404   891.052917\n",
       "..           ...          ...\n",
       "325  1028.438035   999.671326\n",
       "326   789.934950   804.171082\n",
       "327   758.490486   793.512695\n",
       "328  1172.871659  1129.612183\n",
       "329   820.947936   810.759094\n",
       "\n",
       "[330 rows x 2 columns]"
      ]
     },
     "execution_count": 81,
     "metadata": {},
     "output_type": "execute_result"
    }
   ],
   "source": [
    "tahminDfsi"
   ]
  },
  {
   "cell_type": "code",
   "execution_count": 82,
   "id": "b82ecb89",
   "metadata": {},
   "outputs": [
    {
     "data": {
      "text/plain": [
       "<Axes: xlabel='Gerçek Y', ylabel='Tahmin Y'>"
      ]
     },
     "execution_count": 82,
     "metadata": {},
     "output_type": "execute_result"
    },
    {
     "data": {
      "image/png": "[encoded data removed]",
      "text/plain": [
       "<Figure size 640x480 with 1 Axes>"
      ]
     },
     "metadata": {},
     "output_type": "display_data"
    }
   ],
   "source": [
    "sbn.scatterplot(x = \"Gerçek Y\", y=\"Tahmin Y\", data= tahminDfsi)"
   ]
  },
  {
   "cell_type": "code",
   "execution_count": 83,
   "id": "e20b6fa6",
   "metadata": {},
   "outputs": [],
   "source": [
    "from sklearn.metrics import mean_absolute_error, mean_squared_error"
   ]
  },
  {
   "cell_type": "code",
   "execution_count": 84,
   "id": "fdf99390",
   "metadata": {},
   "outputs": [
    {
     "data": {
      "text/plain": [
       "22.21775519820431"
      ]
     },
     "execution_count": 84,
     "metadata": {},
     "output_type": "execute_result"
    }
   ],
   "source": [
    "mean_absolute_error(tahminDfsi[\"Gerçek Y\"],tahminDfsi[\"Tahmin Y\"])## hata payını söylüyor"
   ]
  },
  {
   "cell_type": "code",
   "execution_count": 85,
   "id": "7961fc7c",
   "metadata": {},
   "outputs": [
    {
     "data": {
      "text/html": [
       "<div>\n",
       "<style scoped>\n",
       "    .dataframe tbody tr th:only-of-type {\n",
       "        vertical-align: middle;\n",
       "    }\n",
       "\n",
       "    .dataframe tbody tr th {\n",
       "        vertical-align: top;\n",
       "    }\n",
       "\n",
       "    .dataframe thead th {\n",
       "        text-align: right;\n",
       "    }\n",
       "</style>\n",
       "<table border=\"1\" class=\"dataframe\">\n",
       "  <thead>\n",
       "    <tr style=\"text-align: right;\">\n",
       "      <th></th>\n",
       "      <th>Fiyat</th>\n",
       "      <th>BisikletOzellik1</th>\n",
       "      <th>BisikletOzellik2</th>\n",
       "    </tr>\n",
       "  </thead>\n",
       "  <tbody>\n",
       "    <tr>\n",
       "      <th>count</th>\n",
       "      <td>1000.000000</td>\n",
       "      <td>1000.000000</td>\n",
       "      <td>1000.000000</td>\n",
       "    </tr>\n",
       "    <tr>\n",
       "      <th>mean</th>\n",
       "      <td>872.677801</td>\n",
       "      <td>1750.024800</td>\n",
       "      <td>1749.964733</td>\n",
       "    </tr>\n",
       "    <tr>\n",
       "      <th>std</th>\n",
       "      <td>164.124504</td>\n",
       "      <td>1.704531</td>\n",
       "      <td>1.659578</td>\n",
       "    </tr>\n",
       "    <tr>\n",
       "      <th>min</th>\n",
       "      <td>390.856887</td>\n",
       "      <td>1744.852108</td>\n",
       "      <td>1744.742389</td>\n",
       "    </tr>\n",
       "    <tr>\n",
       "      <th>25%</th>\n",
       "      <td>757.795031</td>\n",
       "      <td>1748.831119</td>\n",
       "      <td>1748.803186</td>\n",
       "    </tr>\n",
       "    <tr>\n",
       "      <th>50%</th>\n",
       "      <td>879.168705</td>\n",
       "      <td>1750.017350</td>\n",
       "      <td>1750.003926</td>\n",
       "    </tr>\n",
       "    <tr>\n",
       "      <th>75%</th>\n",
       "      <td>988.612778</td>\n",
       "      <td>1751.115765</td>\n",
       "      <td>1751.129414</td>\n",
       "    </tr>\n",
       "    <tr>\n",
       "      <th>max</th>\n",
       "      <td>1355.213745</td>\n",
       "      <td>1755.613884</td>\n",
       "      <td>1754.666038</td>\n",
       "    </tr>\n",
       "  </tbody>\n",
       "</table>\n",
       "</div>"
      ],
      "text/plain": [
       "             Fiyat  BisikletOzellik1  BisikletOzellik2\n",
       "count  1000.000000       1000.000000       1000.000000\n",
       "mean    872.677801       1750.024800       1749.964733\n",
       "std     164.124504          1.704531          1.659578\n",
       "min     390.856887       1744.852108       1744.742389\n",
       "25%     757.795031       1748.831119       1748.803186\n",
       "50%     879.168705       1750.017350       1750.003926\n",
       "75%     988.612778       1751.115765       1751.129414\n",
       "max    1355.213745       1755.613884       1754.666038"
      ]
     },
     "execution_count": 85,
     "metadata": {},
     "output_type": "execute_result"
    }
   ],
   "source": [
    "dataFrame.describe()"
   ]
  },
  {
   "cell_type": "code",
   "execution_count": 86,
   "id": "a4fb5bbb",
   "metadata": {},
   "outputs": [],
   "source": [
    "yeniBisikletOzellikleri = [[1760,1758],]"
   ]
  },
  {
   "cell_type": "code",
   "execution_count": 87,
   "id": "fcff6e36",
   "metadata": {},
   "outputs": [],
   "source": [
    "yeniBisikletOzellikleri = scaler.transform(yeniBisikletOzellikleri)"
   ]
  },
  {
   "cell_type": "code",
   "execution_count": 88,
   "id": "cc969057",
   "metadata": {},
   "outputs": [
    {
     "data": {
      "text/plain": [
       "array([[1.4133144 , 1.34470668]])"
      ]
     },
     "execution_count": 88,
     "metadata": {},
     "output_type": "execute_result"
    }
   ],
   "source": [
    "yeniBisikletOzellikleri"
   ]
  },
  {
   "cell_type": "code",
   "execution_count": 89,
   "id": "908eb294",
   "metadata": {},
   "outputs": [
    {
     "name": "stdout",
     "output_type": "stream",
     "text": [
      "1/1 [==============================] - 0s 15ms/step\n"
     ]
    },
    {
     "data": {
      "text/plain": [
       "array([[1834.1934]], dtype=float32)"
      ]
     },
     "execution_count": 89,
     "metadata": {},
     "output_type": "execute_result"
    }
   ],
   "source": [
    "model.predict(yeniBisikletOzellikleri)"
   ]
  },
  {
   "cell_type": "code",
   "execution_count": 90,
   "id": "a85947fe",
   "metadata": {},
   "outputs": [],
   "source": [
    "from tensorflow.keras.models import load_model"
   ]
  },
  {
   "cell_type": "code",
   "execution_count": 91,
   "id": "efb3cb98",
   "metadata": {},
   "outputs": [],
   "source": [
    "model.save(\"bisiklet_modeli.h5\")"
   ]
  },
  {
   "cell_type": "code",
   "execution_count": 92,
   "id": "aad71fbb",
   "metadata": {},
   "outputs": [],
   "source": [
    "sonradanCagirilanModel= load_model(\"bisiklet_modeli.h5\")"
   ]
  },
  {
   "cell_type": "code",
   "execution_count": 93,
   "id": "fa442948",
   "metadata": {},
   "outputs": [
    {
     "name": "stdout",
     "output_type": "stream",
     "text": [
      "1/1 [==============================] - 0s 47ms/step\n"
     ]
    },
    {
     "data": {
      "text/plain": [
       "array([[1834.1934]], dtype=float32)"
      ]
     },
     "execution_count": 93,
     "metadata": {},
     "output_type": "execute_result"
    }
   ],
   "source": [
    "sonradanCagirilanModel.predict(yeniBisikletOzellikleri)"
   ]
  },
  {
   "cell_type": "code",
   "execution_count": null,
   "id": "0d894fd2",
   "metadata": {},
   "outputs": [],
   "source": []
  }
 ],
 "metadata": {
  "kernelspec": {
   "display_name": "Python 3 (ipykernel)",
   "language": "python",
   "name": "python3"
  },
  "language_info": {
   "codemirror_mode": {
    "name": "ipython",
    "version": 3
   },
   "file_extension": ".py",
   "mimetype": "text/x-python",
   "name": "python",
   "nbconvert_exporter": "python",
   "pygments_lexer": "ipython3",
   "version": "3.11.5"
  }
 },
 "nbformat": 4,
 "nbformat_minor": 5
}
